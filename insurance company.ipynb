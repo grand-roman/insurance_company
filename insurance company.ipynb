{
 "cells": [
  {
   "cell_type": "markdown",
   "metadata": {},
   "source": [
    "Вам нужно защитить данные клиентов страховой компании «Хоть потоп». Разработайте такой метод преобразования данных, чтобы по ним было сложно восстановить персональную информацию. Обоснуйте корректность его работы.\n",
    "\n",
    "Нужно защитить данные, чтобы при преобразовании качество моделей машинного обучения не ухудшилось. Подбирать наилучшую модель не требуется."
   ]
  },
  {
   "cell_type": "markdown",
   "metadata": {},
   "source": [
    "## 1. Загрузка данных"
   ]
  },
  {
   "cell_type": "code",
   "execution_count": 3,
   "metadata": {},
   "outputs": [],
   "source": [
    "import pandas as pd\n",
    "import numpy as np\n",
    "from sklearn.metrics import r2_score\n",
    "import matplotlib.pyplot as plt"
   ]
  },
  {
   "cell_type": "code",
   "execution_count": 4,
   "metadata": {},
   "outputs": [],
   "source": [
    "df=pd.read_csv('/datasets/insurance.csv')"
   ]
  },
  {
   "cell_type": "code",
   "execution_count": 5,
   "metadata": {},
   "outputs": [
    {
     "data": {
      "text/html": [
       "<div>\n",
       "<style scoped>\n",
       "    .dataframe tbody tr th:only-of-type {\n",
       "        vertical-align: middle;\n",
       "    }\n",
       "\n",
       "    .dataframe tbody tr th {\n",
       "        vertical-align: top;\n",
       "    }\n",
       "\n",
       "    .dataframe thead th {\n",
       "        text-align: right;\n",
       "    }\n",
       "</style>\n",
       "<table border=\"1\" class=\"dataframe\">\n",
       "  <thead>\n",
       "    <tr style=\"text-align: right;\">\n",
       "      <th></th>\n",
       "      <th>Пол</th>\n",
       "      <th>Возраст</th>\n",
       "      <th>Зарплата</th>\n",
       "      <th>Члены семьи</th>\n",
       "      <th>Страховые выплаты</th>\n",
       "    </tr>\n",
       "  </thead>\n",
       "  <tbody>\n",
       "    <tr>\n",
       "      <td>0</td>\n",
       "      <td>1</td>\n",
       "      <td>41.0</td>\n",
       "      <td>49600.0</td>\n",
       "      <td>1</td>\n",
       "      <td>0</td>\n",
       "    </tr>\n",
       "    <tr>\n",
       "      <td>1</td>\n",
       "      <td>0</td>\n",
       "      <td>46.0</td>\n",
       "      <td>38000.0</td>\n",
       "      <td>1</td>\n",
       "      <td>1</td>\n",
       "    </tr>\n",
       "    <tr>\n",
       "      <td>2</td>\n",
       "      <td>0</td>\n",
       "      <td>29.0</td>\n",
       "      <td>21000.0</td>\n",
       "      <td>0</td>\n",
       "      <td>0</td>\n",
       "    </tr>\n",
       "    <tr>\n",
       "      <td>3</td>\n",
       "      <td>0</td>\n",
       "      <td>21.0</td>\n",
       "      <td>41700.0</td>\n",
       "      <td>2</td>\n",
       "      <td>0</td>\n",
       "    </tr>\n",
       "    <tr>\n",
       "      <td>4</td>\n",
       "      <td>1</td>\n",
       "      <td>28.0</td>\n",
       "      <td>26100.0</td>\n",
       "      <td>0</td>\n",
       "      <td>0</td>\n",
       "    </tr>\n",
       "  </tbody>\n",
       "</table>\n",
       "</div>"
      ],
      "text/plain": [
       "   Пол  Возраст  Зарплата  Члены семьи  Страховые выплаты\n",
       "0    1     41.0   49600.0            1                  0\n",
       "1    0     46.0   38000.0            1                  1\n",
       "2    0     29.0   21000.0            0                  0\n",
       "3    0     21.0   41700.0            2                  0\n",
       "4    1     28.0   26100.0            0                  0"
      ]
     },
     "execution_count": 5,
     "metadata": {},
     "output_type": "execute_result"
    }
   ],
   "source": [
    "df.head()"
   ]
  },
  {
   "cell_type": "code",
   "execution_count": 6,
   "metadata": {},
   "outputs": [
    {
     "name": "stdout",
     "output_type": "stream",
     "text": [
      "<class 'pandas.core.frame.DataFrame'>\n",
      "RangeIndex: 5000 entries, 0 to 4999\n",
      "Data columns (total 5 columns):\n",
      "Пол                  5000 non-null int64\n",
      "Возраст              5000 non-null float64\n",
      "Зарплата             5000 non-null float64\n",
      "Члены семьи          5000 non-null int64\n",
      "Страховые выплаты    5000 non-null int64\n",
      "dtypes: float64(2), int64(3)\n",
      "memory usage: 195.4 KB\n"
     ]
    }
   ],
   "source": [
    "df.info()"
   ]
  },
  {
   "cell_type": "markdown",
   "metadata": {},
   "source": [
    "### Вывод\n",
    "Данные состроят из 5000 строк и 5 признаков. Пропусков нет. Типы данных в порядке. Предобработка не нужна. Целевой признак - \"Страховые выплаты\"."
   ]
  },
  {
   "cell_type": "markdown",
   "metadata": {},
   "source": [
    "## 2. Умножение матриц"
   ]
  },
  {
   "cell_type": "markdown",
   "metadata": {},
   "source": [
    "В этом задании вы можете записывать формулы в *Jupyter Notebook.*\n",
    "\n",
    "Чтобы записать формулу внутри текста, окружите её символами доллара \\\\$; если снаружи —  двойными символами \\\\$\\\\$. Эти формулы записываются на языке вёрстки *LaTeX.* \n",
    "\n",
    "Для примера мы записали формулы линейной регрессии. Можете их скопировать и отредактировать, чтобы решить задачу.\n",
    "\n",
    "Работать в *LaTeX* необязательно."
   ]
  },
  {
   "cell_type": "markdown",
   "metadata": {},
   "source": [
    "Обозначения:\n",
    "\n",
    "- $X$ — матрица признаков (нулевой столбец состоит из единиц)\n",
    "\n",
    "- $y$ — вектор целевого признака\n",
    "\n",
    "- $P$ — матрица, на которую умножаются признаки\n",
    "\n",
    "- $w$ — вектор весов линейной регрессии (нулевой элемент равен сдвигу)"
   ]
  },
  {
   "cell_type": "markdown",
   "metadata": {},
   "source": [
    "Предсказания:\n",
    "\n",
    "$$\n",
    "a = Xw\n",
    "$$\n",
    "\n",
    "Задача обучения:\n",
    "\n",
    "$$\n",
    "w = \\arg\\min_w MSE(Xw, y)\n",
    "$$\n",
    "\n",
    "Формула обучения:\n",
    "\n",
    "$$\n",
    "w = (X^T X)^{-1} X^T y\n",
    "$$"
   ]
  },
  {
   "cell_type": "code",
   "execution_count": 7,
   "metadata": {},
   "outputs": [],
   "source": [
    "# Готовим целевой признак и признаки\n",
    "features=df.drop(['Страховые выплаты'],axis=1)\n",
    "target=df['Страховые выплаты']"
   ]
  },
  {
   "cell_type": "code",
   "execution_count": 8,
   "metadata": {},
   "outputs": [
    {
     "name": "stdout",
     "output_type": "stream",
     "text": [
      "(5000, 4)\n",
      "(5000,)\n"
     ]
    }
   ],
   "source": [
    "print(features.shape)\n",
    "print(target.shape)"
   ]
  },
  {
   "cell_type": "code",
   "execution_count": 9,
   "metadata": {},
   "outputs": [
    {
     "data": {
      "text/plain": [
       "(4, 4)"
      ]
     },
     "execution_count": 9,
     "metadata": {},
     "output_type": "execute_result"
    }
   ],
   "source": [
    "state = np.random.RandomState(12345)\n",
    "# Формирую случайными равномерно распределнными значениями обратиму матрицу 4х4\n",
    "inv_rand_matrix=np.random.normal(size=(features.shape[1],features.shape[1]))\n",
    "inv_rand_matrix.shape"
   ]
  },
  {
   "cell_type": "code",
   "execution_count": 10,
   "metadata": {},
   "outputs": [
    {
     "data": {
      "text/plain": [
       "array([[-1.23967906, -0.01859983,  0.00894676,  1.01209307],\n",
       "       [-1.54592806, -0.10661588, -0.87671478, -1.05276199],\n",
       "       [-0.80919812, -0.18782397, -1.50175383,  1.68674003],\n",
       "       [-1.34367215, -1.10191135, -1.89727847,  0.46569442]])"
      ]
     },
     "execution_count": 10,
     "metadata": {},
     "output_type": "execute_result"
    }
   ],
   "source": [
    "inv_rand_matrix"
   ]
  },
  {
   "cell_type": "code",
   "execution_count": 11,
   "metadata": {},
   "outputs": [],
   "source": [
    "#Новая кодированная матрица \n",
    "crypt_features=features @ inv_rand_matrix"
   ]
  },
  {
   "cell_type": "code",
   "execution_count": 12,
   "metadata": {},
   "outputs": [
    {
     "data": {
      "text/html": [
       "<div>\n",
       "<style scoped>\n",
       "    .dataframe tbody tr th:only-of-type {\n",
       "        vertical-align: middle;\n",
       "    }\n",
       "\n",
       "    .dataframe tbody tr th {\n",
       "        vertical-align: top;\n",
       "    }\n",
       "\n",
       "    .dataframe thead th {\n",
       "        text-align: right;\n",
       "    }\n",
       "</style>\n",
       "<table border=\"1\" class=\"dataframe\">\n",
       "  <thead>\n",
       "    <tr style=\"text-align: right;\">\n",
       "      <th></th>\n",
       "      <th>0</th>\n",
       "      <th>1</th>\n",
       "      <th>2</th>\n",
       "      <th>3</th>\n",
       "    </tr>\n",
       "  </thead>\n",
       "  <tbody>\n",
       "    <tr>\n",
       "      <td>0</td>\n",
       "      <td>-40202.192947</td>\n",
       "      <td>-9321.560547</td>\n",
       "      <td>-74524.823412</td>\n",
       "      <td>83620.619873</td>\n",
       "    </tr>\n",
       "    <tr>\n",
       "      <td>1</td>\n",
       "      <td>-30821.984765</td>\n",
       "      <td>-7143.317004</td>\n",
       "      <td>-57108.871550</td>\n",
       "      <td>64048.159660</td>\n",
       "    </tr>\n",
       "    <tr>\n",
       "      <td>2</td>\n",
       "      <td>-17037.992346</td>\n",
       "      <td>-3947.395177</td>\n",
       "      <td>-31562.255077</td>\n",
       "      <td>35391.010464</td>\n",
       "    </tr>\n",
       "    <tr>\n",
       "      <td>3</td>\n",
       "      <td>-33778.713264</td>\n",
       "      <td>-7836.702198</td>\n",
       "      <td>-62645.340115</td>\n",
       "      <td>70315.882503</td>\n",
       "    </tr>\n",
       "    <tr>\n",
       "      <td>4</td>\n",
       "      <td>-21164.596488</td>\n",
       "      <td>-4905.209395</td>\n",
       "      <td>-39220.313928</td>\n",
       "      <td>43995.449456</td>\n",
       "    </tr>\n",
       "    <tr>\n",
       "      <td>...</td>\n",
       "      <td>...</td>\n",
       "      <td>...</td>\n",
       "      <td>...</td>\n",
       "      <td>...</td>\n",
       "    </tr>\n",
       "    <tr>\n",
       "      <td>4995</td>\n",
       "      <td>-28934.346066</td>\n",
       "      <td>-6710.504705</td>\n",
       "      <td>-53640.954162</td>\n",
       "      <td>60188.073008</td>\n",
       "    </tr>\n",
       "    <tr>\n",
       "      <td>4996</td>\n",
       "      <td>-42455.886496</td>\n",
       "      <td>-9846.702745</td>\n",
       "      <td>-78723.606068</td>\n",
       "      <td>88349.849189</td>\n",
       "    </tr>\n",
       "    <tr>\n",
       "      <td>4997</td>\n",
       "      <td>-27465.422033</td>\n",
       "      <td>-6371.568636</td>\n",
       "      <td>-50930.783557</td>\n",
       "      <td>57160.363056</td>\n",
       "    </tr>\n",
       "    <tr>\n",
       "      <td>4998</td>\n",
       "      <td>-26500.059501</td>\n",
       "      <td>-6147.513618</td>\n",
       "      <td>-49132.320727</td>\n",
       "      <td>55135.647288</td>\n",
       "    </tr>\n",
       "    <tr>\n",
       "      <td>4999</td>\n",
       "      <td>-32899.312840</td>\n",
       "      <td>-7629.758834</td>\n",
       "      <td>-60997.641685</td>\n",
       "      <td>68453.645538</td>\n",
       "    </tr>\n",
       "  </tbody>\n",
       "</table>\n",
       "<p>5000 rows × 4 columns</p>\n",
       "</div>"
      ],
      "text/plain": [
       "                 0            1             2             3\n",
       "0    -40202.192947 -9321.560547 -74524.823412  83620.619873\n",
       "1    -30821.984765 -7143.317004 -57108.871550  64048.159660\n",
       "2    -17037.992346 -3947.395177 -31562.255077  35391.010464\n",
       "3    -33778.713264 -7836.702198 -62645.340115  70315.882503\n",
       "4    -21164.596488 -4905.209395 -39220.313928  43995.449456\n",
       "...            ...          ...           ...           ...\n",
       "4995 -28934.346066 -6710.504705 -53640.954162  60188.073008\n",
       "4996 -42455.886496 -9846.702745 -78723.606068  88349.849189\n",
       "4997 -27465.422033 -6371.568636 -50930.783557  57160.363056\n",
       "4998 -26500.059501 -6147.513618 -49132.320727  55135.647288\n",
       "4999 -32899.312840 -7629.758834 -60997.641685  68453.645538\n",
       "\n",
       "[5000 rows x 4 columns]"
      ]
     },
     "execution_count": 12,
     "metadata": {},
     "output_type": "execute_result"
    }
   ],
   "source": [
    "# пример преобразованной матрицы признаков B\n",
    "crypt_features"
   ]
  },
  {
   "cell_type": "code",
   "execution_count": 13,
   "metadata": {},
   "outputs": [
    {
     "data": {
      "text/html": [
       "<div>\n",
       "<style scoped>\n",
       "    .dataframe tbody tr th:only-of-type {\n",
       "        vertical-align: middle;\n",
       "    }\n",
       "\n",
       "    .dataframe tbody tr th {\n",
       "        vertical-align: top;\n",
       "    }\n",
       "\n",
       "    .dataframe thead th {\n",
       "        text-align: right;\n",
       "    }\n",
       "</style>\n",
       "<table border=\"1\" class=\"dataframe\">\n",
       "  <thead>\n",
       "    <tr style=\"text-align: right;\">\n",
       "      <th></th>\n",
       "      <th>Пол</th>\n",
       "      <th>Возраст</th>\n",
       "      <th>Зарплата</th>\n",
       "      <th>Члены семьи</th>\n",
       "    </tr>\n",
       "  </thead>\n",
       "  <tbody>\n",
       "    <tr>\n",
       "      <td>0</td>\n",
       "      <td>1</td>\n",
       "      <td>41.0</td>\n",
       "      <td>49600.0</td>\n",
       "      <td>1</td>\n",
       "    </tr>\n",
       "    <tr>\n",
       "      <td>1</td>\n",
       "      <td>0</td>\n",
       "      <td>46.0</td>\n",
       "      <td>38000.0</td>\n",
       "      <td>1</td>\n",
       "    </tr>\n",
       "    <tr>\n",
       "      <td>2</td>\n",
       "      <td>0</td>\n",
       "      <td>29.0</td>\n",
       "      <td>21000.0</td>\n",
       "      <td>0</td>\n",
       "    </tr>\n",
       "    <tr>\n",
       "      <td>3</td>\n",
       "      <td>0</td>\n",
       "      <td>21.0</td>\n",
       "      <td>41700.0</td>\n",
       "      <td>2</td>\n",
       "    </tr>\n",
       "    <tr>\n",
       "      <td>4</td>\n",
       "      <td>1</td>\n",
       "      <td>28.0</td>\n",
       "      <td>26100.0</td>\n",
       "      <td>0</td>\n",
       "    </tr>\n",
       "    <tr>\n",
       "      <td>...</td>\n",
       "      <td>...</td>\n",
       "      <td>...</td>\n",
       "      <td>...</td>\n",
       "      <td>...</td>\n",
       "    </tr>\n",
       "    <tr>\n",
       "      <td>4995</td>\n",
       "      <td>0</td>\n",
       "      <td>28.0</td>\n",
       "      <td>35700.0</td>\n",
       "      <td>2</td>\n",
       "    </tr>\n",
       "    <tr>\n",
       "      <td>4996</td>\n",
       "      <td>0</td>\n",
       "      <td>34.0</td>\n",
       "      <td>52400.0</td>\n",
       "      <td>1</td>\n",
       "    </tr>\n",
       "    <tr>\n",
       "      <td>4997</td>\n",
       "      <td>0</td>\n",
       "      <td>20.0</td>\n",
       "      <td>33900.0</td>\n",
       "      <td>2</td>\n",
       "    </tr>\n",
       "    <tr>\n",
       "      <td>4998</td>\n",
       "      <td>1</td>\n",
       "      <td>22.0</td>\n",
       "      <td>32700.0</td>\n",
       "      <td>3</td>\n",
       "    </tr>\n",
       "    <tr>\n",
       "      <td>4999</td>\n",
       "      <td>1</td>\n",
       "      <td>28.0</td>\n",
       "      <td>40600.0</td>\n",
       "      <td>1</td>\n",
       "    </tr>\n",
       "  </tbody>\n",
       "</table>\n",
       "<p>5000 rows × 4 columns</p>\n",
       "</div>"
      ],
      "text/plain": [
       "      Пол  Возраст  Зарплата  Члены семьи\n",
       "0       1     41.0   49600.0            1\n",
       "1       0     46.0   38000.0            1\n",
       "2       0     29.0   21000.0            0\n",
       "3       0     21.0   41700.0            2\n",
       "4       1     28.0   26100.0            0\n",
       "...   ...      ...       ...          ...\n",
       "4995    0     28.0   35700.0            2\n",
       "4996    0     34.0   52400.0            1\n",
       "4997    0     20.0   33900.0            2\n",
       "4998    1     22.0   32700.0            3\n",
       "4999    1     28.0   40600.0            1\n",
       "\n",
       "[5000 rows x 4 columns]"
      ]
     },
     "execution_count": 13,
     "metadata": {},
     "output_type": "execute_result"
    }
   ],
   "source": [
    "# пример матрицы признаков X\n",
    "features"
   ]
  },
  {
   "cell_type": "markdown",
   "metadata": {},
   "source": [
    "Умножая значения одних и тех же весов на признаки разных матриц мы получим значения отличные друг от друга"
   ]
  },
  {
   "cell_type": "markdown",
   "metadata": {},
   "source": [
    "**Ответ:** при умножении признаков $X$ на обратимую матрицу $P$ мы имеем новую матрицу признаков $B$. Качество линейной регрессии после проверки $B$ измениться, т.е метрика качества $R^2$ будет сильно другой. А точнее будет хуже. Но если принять матрицу признаков $B$, как обучающую, то модель обучится и покажет тот же результат $R^2$, что и для признаков $X$\n",
    "\n",
    "**Обоснование:** в нашей задаче мы предсказываем целевой признак $y=W1*X1+W2*X2...Wn*Xn+W0$, где n-количество признаков. А если мы подставим вместо значений $X$ значения новой матрицы $B$, то получим значения новых предсказаний $y'$: $y'=W1*В1+W2*В2...Wn*Вn+W0$, и при старых весах $W$ значения $y!=y'$. Для того чтобы получить $y=y'$ надо получить новые веса $W'$, т.е обучить матрицу признаков $B$ заново!"
   ]
  },
  {
   "cell_type": "code",
   "execution_count": null,
   "metadata": {},
   "outputs": [],
   "source": []
  },
  {
   "cell_type": "markdown",
   "metadata": {},
   "source": [
    "## 3. Алгоритм преобразования"
   ]
  },
  {
   "cell_type": "markdown",
   "metadata": {},
   "source": [
    "**Алгоритм**\n",
    "\n",
    "После получения новой матрицы B, перед процессом функцией predict выполним действие: $X=P^{-1}*B$"
   ]
  },
  {
   "cell_type": "markdown",
   "metadata": {},
   "source": [
    "**Обоснование**\n",
    "\n",
    "Кодирование признаков происходит умножением $X*P=B$, где $X$-матрица признаков, $P$-матрица, на которую умножаются признаки (обратимая матрица),$B$-новая матрица. Умножим обе части уравнения на $Р^{-1}$ (обратную матрицу $P$). Получим $X*Р^{-1}*P=B*Р^{-1}$. Зная свойство обратных матриц $Р^{-1}*P=E$, где Е- это единичная матрица и зная свойство единичной матрицы $E*X=X$, получаем, что $X=P^{-1}*B$"
   ]
  },
  {
   "cell_type": "markdown",
   "metadata": {},
   "source": [
    "## 4. Проверка алгоритма"
   ]
  },
  {
   "cell_type": "code",
   "execution_count": 14,
   "metadata": {},
   "outputs": [],
   "source": [
    "# Класс модели линейной регрессии\n",
    "class LineRegression():\n",
    "    #Функция обучения\n",
    "    def fit(self,train_features,train_target):\n",
    "       \n",
    "        X = np.concatenate((np.ones((train_features.shape[0], 1)), train_features), axis=1) # Добавляем столбец с 1\n",
    "        y=train_target \n",
    "        w=np.linalg.inv(X.T @ X)@ X.T @ y # сама формула ЛР\n",
    "       \n",
    "        self.w=w[1:] # веса признаков\n",
    "        self.w0=w[0] # регрессор константа\n",
    "    \n",
    "    #Функция предсказания    \n",
    "    def predict(self,test_features):\n",
    "        return test_features.dot(self.w)+self.w0 # признак"
   ]
  },
  {
   "cell_type": "code",
   "execution_count": 15,
   "metadata": {},
   "outputs": [
    {
     "name": "stdout",
     "output_type": "stream",
     "text": [
      "0.4249455028666801\n"
     ]
    }
   ],
   "source": [
    "# Модель линейной регрессии для features без кодирования\n",
    "model=LineRegression()\n",
    "model.fit(features,target)\n",
    "prediction=model.predict(features)\n",
    "\n",
    "MSE=r2_score(target,prediction)\n",
    "print(MSE)"
   ]
  },
  {
   "cell_type": "code",
   "execution_count": 16,
   "metadata": {},
   "outputs": [
    {
     "data": {
      "text/plain": [
       "0       0.511727\n",
       "1       0.684316\n",
       "2       0.093734\n",
       "3      -0.222589\n",
       "4       0.065084\n",
       "          ...   \n",
       "4995    0.028390\n",
       "4996    0.253367\n",
       "4997   -0.256970\n",
       "4998   -0.190992\n",
       "4999    0.049050\n",
       "Length: 5000, dtype: float64"
      ]
     },
     "execution_count": 16,
     "metadata": {},
     "output_type": "execute_result"
    }
   ],
   "source": [
    "prediction"
   ]
  },
  {
   "cell_type": "code",
   "execution_count": 22,
   "metadata": {},
   "outputs": [
    {
     "name": "stdout",
     "output_type": "stream",
     "text": [
      "-36685096.23193348\n"
     ]
    }
   ],
   "source": [
    "# Модель линейной регрессии для crypt_features (кодированная) без обучения \n",
    "model=LineRegression()\n",
    "model.fit(features,target)\n",
    "prediction_crypt_1=model.predict(crypt_features)\n",
    "MSE_crypt_1=r2_score(target,prediction_crypt_1)\n",
    "print(MSE_crypt_1)"
   ]
  },
  {
   "cell_type": "code",
   "execution_count": 23,
   "metadata": {},
   "outputs": [
    {
     "name": "stdout",
     "output_type": "stream",
     "text": [
      "0.4249455028666522\n"
     ]
    }
   ],
   "source": [
    "# Модель линейной регрессии для crypt_features (кодированная) с обучением \n",
    "model=LineRegression()\n",
    "model.fit(crypt_features,target)\n",
    "prediction_crypt_2=model.predict(crypt_features)\n",
    "MSE_crypt_2=r2_score(target,prediction_crypt_2)\n",
    "print(MSE_crypt_2)"
   ]
  },
  {
   "cell_type": "markdown",
   "metadata": {},
   "source": [
    "## Реализация алгоритма преобразования"
   ]
  },
  {
   "cell_type": "code",
   "execution_count": 24,
   "metadata": {},
   "outputs": [],
   "source": [
    "P=inv_rand_matrix\n",
    "P_inv=np.linalg.inv(P) # делаем обратную матрицу от inv_rand_matrix"
   ]
  },
  {
   "cell_type": "code",
   "execution_count": 25,
   "metadata": {},
   "outputs": [
    {
     "data": {
      "text/plain": [
       "array([[ 1.00000000e+00, -6.19546453e-17,  8.94509723e-17,\n",
       "         5.93284188e-18],\n",
       "       [ 1.01127894e-16,  1.00000000e+00, -2.42990373e-17,\n",
       "        -2.70547548e-17],\n",
       "       [-1.50460664e-18, -7.45411080e-17,  1.00000000e+00,\n",
       "        -4.54527472e-17],\n",
       "       [-3.50771589e-17, -6.45070714e-17,  4.51272929e-17,\n",
       "         1.00000000e+00]])"
      ]
     },
     "execution_count": 25,
     "metadata": {},
     "output_type": "execute_result"
    }
   ],
   "source": [
    "ones_diag_matrix=P @ P_inv # проверяем, что при их умножении будет единичная матрица\n",
    "ones_diag_matrix"
   ]
  },
  {
   "cell_type": "code",
   "execution_count": 26,
   "metadata": {},
   "outputs": [],
   "source": [
    "decrypt_features=crypt_features @ P_inv # сам алгоритм преобразования"
   ]
  },
  {
   "cell_type": "code",
   "execution_count": 27,
   "metadata": {},
   "outputs": [
    {
     "name": "stdout",
     "output_type": "stream",
     "text": [
      "0.42494550286668153\n"
     ]
    }
   ],
   "source": [
    "model=LineRegression()\n",
    "model.fit(features,target)\n",
    "prediction_decrypt=model.predict(decrypt_features)\n",
    "MSE_decrypt=r2_score(target,prediction_decrypt)\n",
    "print(MSE_decrypt)"
   ]
  },
  {
   "cell_type": "markdown",
   "metadata": {},
   "source": [
    "# Вывод"
   ]
  },
  {
   "cell_type": "markdown",
   "metadata": {},
   "source": [
    "Сравним качества моделей"
   ]
  },
  {
   "cell_type": "code",
   "execution_count": 28,
   "metadata": {},
   "outputs": [
    {
     "data": {
      "text/html": [
       "<div>\n",
       "<style scoped>\n",
       "    .dataframe tbody tr th:only-of-type {\n",
       "        vertical-align: middle;\n",
       "    }\n",
       "\n",
       "    .dataframe tbody tr th {\n",
       "        vertical-align: top;\n",
       "    }\n",
       "\n",
       "    .dataframe thead th {\n",
       "        text-align: right;\n",
       "    }\n",
       "</style>\n",
       "<table border=\"1\" class=\"dataframe\">\n",
       "  <thead>\n",
       "    <tr style=\"text-align: right;\">\n",
       "      <th></th>\n",
       "      <th>MSE</th>\n",
       "    </tr>\n",
       "  </thead>\n",
       "  <tbody>\n",
       "    <tr>\n",
       "      <td>Без кодирования</td>\n",
       "      <td>4.249455e-01</td>\n",
       "    </tr>\n",
       "    <tr>\n",
       "      <td>С кодированием и без переобучения</td>\n",
       "      <td>-3.668510e+07</td>\n",
       "    </tr>\n",
       "    <tr>\n",
       "      <td>С кодированием и переобучением</td>\n",
       "      <td>4.249455e-01</td>\n",
       "    </tr>\n",
       "    <tr>\n",
       "      <td>С преобразованием</td>\n",
       "      <td>4.249455e-01</td>\n",
       "    </tr>\n",
       "  </tbody>\n",
       "</table>\n",
       "</div>"
      ],
      "text/plain": [
       "                                            MSE\n",
       "Без кодирования                    4.249455e-01\n",
       "С кодированием и без переобучения -3.668510e+07\n",
       "С кодированием и переобучением     4.249455e-01\n",
       "С преобразованием                  4.249455e-01"
      ]
     },
     "execution_count": 28,
     "metadata": {},
     "output_type": "execute_result"
    }
   ],
   "source": [
    "rezume=[MSE,MSE_crypt_1,MSE_crypt_2,MSE_decrypt]\n",
    "df_rezume=pd.DataFrame(rezume,index=['Без кодирования','С кодированием и без переобучения','С кодированием и переобучением','С преобразованием'])\n",
    "df_rezume.set_axis(['MSE'],axis='columns',inplace=True)\n",
    "df_rezume"
   ]
  },
  {
   "cell_type": "markdown",
   "metadata": {},
   "source": [
    "- Модели \"Без кодирования\",\"С кодированием и переобучением\" и \"С преобразованием \" дали одинаковый результат. \n",
    ">Алгоритм преобразования работает!"
   ]
  }
 ],
 "metadata": {
  "kernelspec": {
   "display_name": "Python 3",
   "language": "python",
   "name": "python3"
  },
  "language_info": {
   "codemirror_mode": {
    "name": "ipython",
    "version": 3
   },
   "file_extension": ".py",
   "mimetype": "text/x-python",
   "name": "python",
   "nbconvert_exporter": "python",
   "pygments_lexer": "ipython3",
   "version": "3.7.6"
  }
 },
 "nbformat": 4,
 "nbformat_minor": 2
}
